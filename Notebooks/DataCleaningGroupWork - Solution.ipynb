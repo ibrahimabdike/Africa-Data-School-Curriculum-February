{
 "cells": [
  {
   "cell_type": "markdown",
   "metadata": {
    "id": "_XzGFitQl60K"
   },
   "source": [
    "#  Data Cleaning with Python"
   ]
  },
  {
   "cell_type": "markdown",
   "metadata": {
    "id": "8tAUAu98l-E6"
   },
   "source": [
    "## 1. Standardisation"
   ]
  },
  {
   "cell_type": "markdown",
   "metadata": {
    "id": "AdqLGpdH_867"
   },
   "source": [
    "#### <font color=\"blue\">Pre-requisites</font>"
   ]
  },
  {
   "cell_type": "code",
   "execution_count": 1,
   "metadata": {
    "id": "tzG_vFPsAF9H"
   },
   "outputs": [],
   "source": [
    "# Pre-requisite 1\n",
    "# ---\n",
    "# Importing pandas library\n",
    "# ---\n",
    "# -> This is a data analysis and manipulation library with Python.\n",
    "# ---\n",
    "# OUR CODE GOES BELOW\n",
    "#\n",
    "import pandas as pd"
   ]
  },
  {
   "cell_type": "code",
   "execution_count": 2,
   "metadata": {
    "id": "Gxs3j_OJQ7my"
   },
   "outputs": [],
   "source": [
    "# Pre-requisite 2\n",
    "# ---\n",
    "# Importing the numpy library\n",
    "# -> This is a library for scientific computing with Python.\n",
    "# -> It simply allows us to perfom complex mathematical operations.\n",
    "# ---\n",
    "# OUR CODE GOES BELOW\n",
    "#\n",
    "import numpy as np"
   ]
  },
  {
   "cell_type": "markdown",
   "metadata": {
    "id": "o39LEL0PmKJa"
   },
   "source": [
    "#### <font color=\"blue\">Examples</font>"
   ]
  },
  {
   "cell_type": "markdown",
   "metadata": {
    "id": "BMXTATeJmOGX"
   },
   "source": [
    "##### <font color=\"blue\">Example 1</font>"
   ]
  },
  {
   "cell_type": "code",
   "execution_count": 3,
   "metadata": {
    "colab": {
     "base_uri": "https://localhost:8080/",
     "height": 261
    },
    "id": "Ql23JRMAlvv2",
    "outputId": "9477494f-4fe5-43f5-b26c-81497d37421d"
   },
   "outputs": [
    {
     "data": {
      "text/html": [
       "<div>\n",
       "<style scoped>\n",
       "    .dataframe tbody tr th:only-of-type {\n",
       "        vertical-align: middle;\n",
       "    }\n",
       "\n",
       "    .dataframe tbody tr th {\n",
       "        vertical-align: top;\n",
       "    }\n",
       "\n",
       "    .dataframe thead th {\n",
       "        text-align: right;\n",
       "    }\n",
       "</style>\n",
       "<table border=\"1\" class=\"dataframe\">\n",
       "  <thead>\n",
       "    <tr style=\"text-align: right;\">\n",
       "      <th></th>\n",
       "      <th>NAME</th>\n",
       "      <th>CITY</th>\n",
       "      <th>COUNTRY</th>\n",
       "      <th>HEIGHT</th>\n",
       "      <th>WEIGHT</th>\n",
       "      <th>ACCOUNT A</th>\n",
       "      <th>ACCOUNT B</th>\n",
       "      <th>TOTAL ACCOUNT</th>\n",
       "    </tr>\n",
       "  </thead>\n",
       "  <tbody>\n",
       "    <tr>\n",
       "      <th>0</th>\n",
       "      <td>Adi Dako</td>\n",
       "      <td>LISBON</td>\n",
       "      <td>PORTUGAL</td>\n",
       "      <td>56</td>\n",
       "      <td>132.0</td>\n",
       "      <td>2390.0</td>\n",
       "      <td>4340</td>\n",
       "      <td>6730</td>\n",
       "    </tr>\n",
       "    <tr>\n",
       "      <th>1</th>\n",
       "      <td>John Paul</td>\n",
       "      <td>LONDON</td>\n",
       "      <td>UNITED KINGDOM</td>\n",
       "      <td>62</td>\n",
       "      <td>165.0</td>\n",
       "      <td>4500.0</td>\n",
       "      <td>34334</td>\n",
       "      <td>38834</td>\n",
       "    </tr>\n",
       "    <tr>\n",
       "      <th>2</th>\n",
       "      <td>Cindy Jules</td>\n",
       "      <td>Stockholm</td>\n",
       "      <td>Sweden</td>\n",
       "      <td>48</td>\n",
       "      <td>117.0</td>\n",
       "      <td>NaN</td>\n",
       "      <td>5504</td>\n",
       "      <td>8949</td>\n",
       "    </tr>\n",
       "    <tr>\n",
       "      <th>3</th>\n",
       "      <td>Arthur Kegels</td>\n",
       "      <td>BRUSSELS</td>\n",
       "      <td>BELGIUM</td>\n",
       "      <td>59</td>\n",
       "      <td>121.0</td>\n",
       "      <td>4344.0</td>\n",
       "      <td>8999</td>\n",
       "      <td>300</td>\n",
       "    </tr>\n",
       "    <tr>\n",
       "      <th>4</th>\n",
       "      <td>Freya Bismark</td>\n",
       "      <td>Berlin</td>\n",
       "      <td>GERMANYY</td>\n",
       "      <td>53</td>\n",
       "      <td>126.0</td>\n",
       "      <td>7000.0</td>\n",
       "      <td>19000</td>\n",
       "      <td>26000</td>\n",
       "    </tr>\n",
       "  </tbody>\n",
       "</table>\n",
       "</div>"
      ],
      "text/plain": [
       "                NAME        CITY         COUNTRY  HEIGHT  WEIGHT  ACCOUNT A  \\\n",
       "0          Adi Dako   LISBON       PORTUGAL           56   132.0     2390.0   \n",
       "1          John Paul   LONDON     UNITED KINGDOM      62   165.0     4500.0   \n",
       "2        Cindy Jules   Stockholm          Sweden      48   117.0        NaN   \n",
       "3      Arthur Kegels    BRUSSELS         BELGIUM      59   121.0     4344.0   \n",
       "4      Freya Bismark      Berlin        GERMANYY      53   126.0     7000.0   \n",
       "\n",
       "   ACCOUNT B  TOTAL ACCOUNT  \n",
       "0       4340           6730  \n",
       "1      34334          38834  \n",
       "2       5504           8949  \n",
       "3       8999            300  \n",
       "4      19000          26000  "
      ]
     },
     "execution_count": 3,
     "metadata": {},
     "output_type": "execute_result"
    }
   ],
   "source": [
    "# Example 1\n",
    "# ---\n",
    "# Renaming column names\n",
    "# ---\n",
    "# Dataset url = http://bit.ly/DataCleaningDataset\n",
    "# ---\n",
    "# OUR CODE GOES BELOW\n",
    "#\n",
    "\n",
    "# Reading our dataset from the url\n",
    "# ---\n",
    "# We also specify the character ; as our separator\n",
    "# ---\n",
    "#\n",
    "df = pd.read_csv('http://bit.ly/DataCleaningDataset', sep=';')\n",
    "df.head()"
   ]
  },
  {
   "cell_type": "code",
   "execution_count": 4,
   "metadata": {
    "colab": {
     "base_uri": "https://localhost:8080/"
    },
    "id": "1SmFWte1L0oF",
    "outputId": "bf5c1f1a-eac7-4722-fa25-1a1fd0f37a1c"
   },
   "outputs": [
    {
     "data": {
      "text/plain": [
       "Index(['NAME', 'CITY', 'COUNTRY', 'HEIGHT', 'WEIGHT', 'ACCOUNT A', 'ACCOUNT B',\n",
       "       'TOTAL ACCOUNT'],\n",
       "      dtype='object')"
      ]
     },
     "execution_count": 4,
     "metadata": {},
     "output_type": "execute_result"
    }
   ],
   "source": [
    "df.columns"
   ]
  },
  {
   "cell_type": "code",
   "execution_count": 5,
   "metadata": {
    "colab": {
     "base_uri": "https://localhost:8080/",
     "height": 296
    },
    "id": "tjbZr_6MXhLb",
    "outputId": "60486c34-e623-47e8-9c7b-73cfdb14483b"
   },
   "outputs": [
    {
     "name": "stderr",
     "output_type": "stream",
     "text": [
      "C:\\Users\\admin\\AppData\\Local\\Temp\\ipykernel_16192\\138224930.py:12: FutureWarning: The default value of regex will change from True to False in a future version. In addition, single character regular expressions will *not* be treated as literal strings when regex=True.\n",
      "  df.columns = df.columns.str.strip().str.lower().str.replace(' ', '_').str.replace('(', '').str.replace(')', '')\n",
      "C:\\Users\\admin\\AppData\\Local\\Temp\\ipykernel_16192\\138224930.py:12: FutureWarning: The default value of regex will change from True to False in a future version. In addition, single character regular expressions will *not* be treated as literal strings when regex=True.\n",
      "  df.columns = df.columns.str.strip().str.lower().str.replace(' ', '_').str.replace('(', '').str.replace(')', '')\n"
     ]
    },
    {
     "data": {
      "text/html": [
       "<div>\n",
       "<style scoped>\n",
       "    .dataframe tbody tr th:only-of-type {\n",
       "        vertical-align: middle;\n",
       "    }\n",
       "\n",
       "    .dataframe tbody tr th {\n",
       "        vertical-align: top;\n",
       "    }\n",
       "\n",
       "    .dataframe thead th {\n",
       "        text-align: right;\n",
       "    }\n",
       "</style>\n",
       "<table border=\"1\" class=\"dataframe\">\n",
       "  <thead>\n",
       "    <tr style=\"text-align: right;\">\n",
       "      <th></th>\n",
       "      <th>name</th>\n",
       "      <th>city</th>\n",
       "      <th>country</th>\n",
       "      <th>height</th>\n",
       "      <th>weight</th>\n",
       "      <th>account_a</th>\n",
       "      <th>account_b</th>\n",
       "      <th>total_account</th>\n",
       "    </tr>\n",
       "  </thead>\n",
       "  <tbody>\n",
       "    <tr>\n",
       "      <th>0</th>\n",
       "      <td>Adi Dako</td>\n",
       "      <td>LISBON</td>\n",
       "      <td>PORTUGAL</td>\n",
       "      <td>56</td>\n",
       "      <td>132.0</td>\n",
       "      <td>2390.0</td>\n",
       "      <td>4340</td>\n",
       "      <td>6730</td>\n",
       "    </tr>\n",
       "    <tr>\n",
       "      <th>1</th>\n",
       "      <td>John Paul</td>\n",
       "      <td>LONDON</td>\n",
       "      <td>UNITED KINGDOM</td>\n",
       "      <td>62</td>\n",
       "      <td>165.0</td>\n",
       "      <td>4500.0</td>\n",
       "      <td>34334</td>\n",
       "      <td>38834</td>\n",
       "    </tr>\n",
       "    <tr>\n",
       "      <th>2</th>\n",
       "      <td>Cindy Jules</td>\n",
       "      <td>Stockholm</td>\n",
       "      <td>Sweden</td>\n",
       "      <td>48</td>\n",
       "      <td>117.0</td>\n",
       "      <td>NaN</td>\n",
       "      <td>5504</td>\n",
       "      <td>8949</td>\n",
       "    </tr>\n",
       "    <tr>\n",
       "      <th>3</th>\n",
       "      <td>Arthur Kegels</td>\n",
       "      <td>BRUSSELS</td>\n",
       "      <td>BELGIUM</td>\n",
       "      <td>59</td>\n",
       "      <td>121.0</td>\n",
       "      <td>4344.0</td>\n",
       "      <td>8999</td>\n",
       "      <td>300</td>\n",
       "    </tr>\n",
       "    <tr>\n",
       "      <th>4</th>\n",
       "      <td>Freya Bismark</td>\n",
       "      <td>Berlin</td>\n",
       "      <td>GERMANYY</td>\n",
       "      <td>53</td>\n",
       "      <td>126.0</td>\n",
       "      <td>7000.0</td>\n",
       "      <td>19000</td>\n",
       "      <td>26000</td>\n",
       "    </tr>\n",
       "  </tbody>\n",
       "</table>\n",
       "</div>"
      ],
      "text/plain": [
       "                name        city         country  height  weight  account_a  \\\n",
       "0          Adi Dako   LISBON       PORTUGAL           56   132.0     2390.0   \n",
       "1          John Paul   LONDON     UNITED KINGDOM      62   165.0     4500.0   \n",
       "2        Cindy Jules   Stockholm          Sweden      48   117.0        NaN   \n",
       "3      Arthur Kegels    BRUSSELS         BELGIUM      59   121.0     4344.0   \n",
       "4      Freya Bismark      Berlin        GERMANYY      53   126.0     7000.0   \n",
       "\n",
       "   account_b  total_account  \n",
       "0       4340           6730  \n",
       "1      34334          38834  \n",
       "2       5504           8949  \n",
       "3       8999            300  \n",
       "4      19000          26000  "
      ]
     },
     "execution_count": 5,
     "metadata": {},
     "output_type": "execute_result"
    }
   ],
   "source": [
    "# Example 1a\n",
    "# ---\n",
    "# In this example, we will renaming our columns, if we have many column names.\n",
    "# We will use the str.strip(), str.lower(), str.replace() functions\n",
    "# to ensure that our column names are in lowercase format that easily can work with.\n",
    "# ---\n",
    "# str.strip() - We use this function to remove leading and trailing characters.\n",
    "# str.lower() - This function converts all characters to lowercase\n",
    "# str.replace() - This functions is used replace text with some other text.\n",
    "# ---\n",
    "#\n",
    "df.columns = df.columns.str.strip().str.lower().str.replace(' ', '_').str.replace('(', '').str.replace(')', '')\n",
    "\n",
    "# Then preview our dataframe\n",
    "# ---\n",
    "df.head()"
   ]
  },
  {
   "cell_type": "code",
   "execution_count": null,
   "metadata": {
    "colab": {
     "base_uri": "https://localhost:8080/",
     "height": 206
    },
    "id": "VcZ63_4lWDRG",
    "outputId": "cf551ba6-6396-4f65-df37-7340d43dfd23"
   },
   "outputs": [
    {
     "data": {
      "text/html": [
       "\n",
       "  <div id=\"df-531aa039-729a-4cc3-98f3-1fe4a821a1a1\" class=\"colab-df-container\">\n",
       "    <div>\n",
       "<style scoped>\n",
       "    .dataframe tbody tr th:only-of-type {\n",
       "        vertical-align: middle;\n",
       "    }\n",
       "\n",
       "    .dataframe tbody tr th {\n",
       "        vertical-align: top;\n",
       "    }\n",
       "\n",
       "    .dataframe thead th {\n",
       "        text-align: right;\n",
       "    }\n",
       "</style>\n",
       "<table border=\"1\" class=\"dataframe\">\n",
       "  <thead>\n",
       "    <tr style=\"text-align: right;\">\n",
       "      <th></th>\n",
       "      <th>name</th>\n",
       "      <th>city</th>\n",
       "      <th>country</th>\n",
       "      <th>height</th>\n",
       "      <th>weight</th>\n",
       "      <th>account_a</th>\n",
       "      <th>account_b</th>\n",
       "      <th>total_account</th>\n",
       "    </tr>\n",
       "  </thead>\n",
       "  <tbody>\n",
       "    <tr>\n",
       "      <th>0</th>\n",
       "      <td>Adi Dako</td>\n",
       "      <td>LISBON</td>\n",
       "      <td>PORTUGAL</td>\n",
       "      <td>56</td>\n",
       "      <td>132.0</td>\n",
       "      <td>2390.0</td>\n",
       "      <td>4340</td>\n",
       "      <td>6730</td>\n",
       "    </tr>\n",
       "    <tr>\n",
       "      <th>1</th>\n",
       "      <td>John Paul</td>\n",
       "      <td>LONDON</td>\n",
       "      <td>UNITED KINGDOM</td>\n",
       "      <td>62</td>\n",
       "      <td>165.0</td>\n",
       "      <td>4500.0</td>\n",
       "      <td>34334</td>\n",
       "      <td>38834</td>\n",
       "    </tr>\n",
       "    <tr>\n",
       "      <th>2</th>\n",
       "      <td>Cindy Jules</td>\n",
       "      <td>Stockholm</td>\n",
       "      <td>Sweden</td>\n",
       "      <td>48</td>\n",
       "      <td>117.0</td>\n",
       "      <td>NaN</td>\n",
       "      <td>5504</td>\n",
       "      <td>8949</td>\n",
       "    </tr>\n",
       "    <tr>\n",
       "      <th>3</th>\n",
       "      <td>Arthur Kegels</td>\n",
       "      <td>BRUSSELS</td>\n",
       "      <td>BELGIUM</td>\n",
       "      <td>59</td>\n",
       "      <td>121.0</td>\n",
       "      <td>4344.0</td>\n",
       "      <td>8999</td>\n",
       "      <td>300</td>\n",
       "    </tr>\n",
       "    <tr>\n",
       "      <th>4</th>\n",
       "      <td>Freya Bismark</td>\n",
       "      <td>Berlin</td>\n",
       "      <td>GERMANYY</td>\n",
       "      <td>53</td>\n",
       "      <td>126.0</td>\n",
       "      <td>7000.0</td>\n",
       "      <td>19000</td>\n",
       "      <td>26000</td>\n",
       "    </tr>\n",
       "  </tbody>\n",
       "</table>\n",
       "</div>\n",
       "    <div class=\"colab-df-buttons\">\n",
       "\n",
       "  <div class=\"colab-df-container\">\n",
       "    <button class=\"colab-df-convert\" onclick=\"convertToInteractive('df-531aa039-729a-4cc3-98f3-1fe4a821a1a1')\"\n",
       "            title=\"Convert this dataframe to an interactive table.\"\n",
       "            style=\"display:none;\">\n",
       "\n",
       "  <svg xmlns=\"http://www.w3.org/2000/svg\" height=\"24px\" viewBox=\"0 -960 960 960\">\n",
       "    <path d=\"M120-120v-720h720v720H120Zm60-500h600v-160H180v160Zm220 220h160v-160H400v160Zm0 220h160v-160H400v160ZM180-400h160v-160H180v160Zm440 0h160v-160H620v160ZM180-180h160v-160H180v160Zm440 0h160v-160H620v160Z\"/>\n",
       "  </svg>\n",
       "    </button>\n",
       "\n",
       "  <style>\n",
       "    .colab-df-container {\n",
       "      display:flex;\n",
       "      gap: 12px;\n",
       "    }\n",
       "\n",
       "    .colab-df-convert {\n",
       "      background-color: #E8F0FE;\n",
       "      border: none;\n",
       "      border-radius: 50%;\n",
       "      cursor: pointer;\n",
       "      display: none;\n",
       "      fill: #1967D2;\n",
       "      height: 32px;\n",
       "      padding: 0 0 0 0;\n",
       "      width: 32px;\n",
       "    }\n",
       "\n",
       "    .colab-df-convert:hover {\n",
       "      background-color: #E2EBFA;\n",
       "      box-shadow: 0px 1px 2px rgba(60, 64, 67, 0.3), 0px 1px 3px 1px rgba(60, 64, 67, 0.15);\n",
       "      fill: #174EA6;\n",
       "    }\n",
       "\n",
       "    .colab-df-buttons div {\n",
       "      margin-bottom: 4px;\n",
       "    }\n",
       "\n",
       "    [theme=dark] .colab-df-convert {\n",
       "      background-color: #3B4455;\n",
       "      fill: #D2E3FC;\n",
       "    }\n",
       "\n",
       "    [theme=dark] .colab-df-convert:hover {\n",
       "      background-color: #434B5C;\n",
       "      box-shadow: 0px 1px 3px 1px rgba(0, 0, 0, 0.15);\n",
       "      filter: drop-shadow(0px 1px 2px rgba(0, 0, 0, 0.3));\n",
       "      fill: #FFFFFF;\n",
       "    }\n",
       "  </style>\n",
       "\n",
       "    <script>\n",
       "      const buttonEl =\n",
       "        document.querySelector('#df-531aa039-729a-4cc3-98f3-1fe4a821a1a1 button.colab-df-convert');\n",
       "      buttonEl.style.display =\n",
       "        google.colab.kernel.accessAllowed ? 'block' : 'none';\n",
       "\n",
       "      async function convertToInteractive(key) {\n",
       "        const element = document.querySelector('#df-531aa039-729a-4cc3-98f3-1fe4a821a1a1');\n",
       "        const dataTable =\n",
       "          await google.colab.kernel.invokeFunction('convertToInteractive',\n",
       "                                                    [key], {});\n",
       "        if (!dataTable) return;\n",
       "\n",
       "        const docLinkHtml = 'Like what you see? Visit the ' +\n",
       "          '<a target=\"_blank\" href=https://colab.research.google.com/notebooks/data_table.ipynb>data table notebook</a>'\n",
       "          + ' to learn more about interactive tables.';\n",
       "        element.innerHTML = '';\n",
       "        dataTable['output_type'] = 'display_data';\n",
       "        await google.colab.output.renderOutput(dataTable, element);\n",
       "        const docLink = document.createElement('div');\n",
       "        docLink.innerHTML = docLinkHtml;\n",
       "        element.appendChild(docLink);\n",
       "      }\n",
       "    </script>\n",
       "  </div>\n",
       "\n",
       "\n",
       "<div id=\"df-db9e1484-adaa-4a42-b4ce-cf374bfe3338\">\n",
       "  <button class=\"colab-df-quickchart\" onclick=\"quickchart('df-db9e1484-adaa-4a42-b4ce-cf374bfe3338')\"\n",
       "            title=\"Suggest charts.\"\n",
       "            style=\"display:none;\">\n",
       "\n",
       "<svg xmlns=\"http://www.w3.org/2000/svg\" height=\"24px\"viewBox=\"0 0 24 24\"\n",
       "     width=\"24px\">\n",
       "    <g>\n",
       "        <path d=\"M19 3H5c-1.1 0-2 .9-2 2v14c0 1.1.9 2 2 2h14c1.1 0 2-.9 2-2V5c0-1.1-.9-2-2-2zM9 17H7v-7h2v7zm4 0h-2V7h2v10zm4 0h-2v-4h2v4z\"/>\n",
       "    </g>\n",
       "</svg>\n",
       "  </button>\n",
       "\n",
       "<style>\n",
       "  .colab-df-quickchart {\n",
       "      --bg-color: #E8F0FE;\n",
       "      --fill-color: #1967D2;\n",
       "      --hover-bg-color: #E2EBFA;\n",
       "      --hover-fill-color: #174EA6;\n",
       "      --disabled-fill-color: #AAA;\n",
       "      --disabled-bg-color: #DDD;\n",
       "  }\n",
       "\n",
       "  [theme=dark] .colab-df-quickchart {\n",
       "      --bg-color: #3B4455;\n",
       "      --fill-color: #D2E3FC;\n",
       "      --hover-bg-color: #434B5C;\n",
       "      --hover-fill-color: #FFFFFF;\n",
       "      --disabled-bg-color: #3B4455;\n",
       "      --disabled-fill-color: #666;\n",
       "  }\n",
       "\n",
       "  .colab-df-quickchart {\n",
       "    background-color: var(--bg-color);\n",
       "    border: none;\n",
       "    border-radius: 50%;\n",
       "    cursor: pointer;\n",
       "    display: none;\n",
       "    fill: var(--fill-color);\n",
       "    height: 32px;\n",
       "    padding: 0;\n",
       "    width: 32px;\n",
       "  }\n",
       "\n",
       "  .colab-df-quickchart:hover {\n",
       "    background-color: var(--hover-bg-color);\n",
       "    box-shadow: 0 1px 2px rgba(60, 64, 67, 0.3), 0 1px 3px 1px rgba(60, 64, 67, 0.15);\n",
       "    fill: var(--button-hover-fill-color);\n",
       "  }\n",
       "\n",
       "  .colab-df-quickchart-complete:disabled,\n",
       "  .colab-df-quickchart-complete:disabled:hover {\n",
       "    background-color: var(--disabled-bg-color);\n",
       "    fill: var(--disabled-fill-color);\n",
       "    box-shadow: none;\n",
       "  }\n",
       "\n",
       "  .colab-df-spinner {\n",
       "    border: 2px solid var(--fill-color);\n",
       "    border-color: transparent;\n",
       "    border-bottom-color: var(--fill-color);\n",
       "    animation:\n",
       "      spin 1s steps(1) infinite;\n",
       "  }\n",
       "\n",
       "  @keyframes spin {\n",
       "    0% {\n",
       "      border-color: transparent;\n",
       "      border-bottom-color: var(--fill-color);\n",
       "      border-left-color: var(--fill-color);\n",
       "    }\n",
       "    20% {\n",
       "      border-color: transparent;\n",
       "      border-left-color: var(--fill-color);\n",
       "      border-top-color: var(--fill-color);\n",
       "    }\n",
       "    30% {\n",
       "      border-color: transparent;\n",
       "      border-left-color: var(--fill-color);\n",
       "      border-top-color: var(--fill-color);\n",
       "      border-right-color: var(--fill-color);\n",
       "    }\n",
       "    40% {\n",
       "      border-color: transparent;\n",
       "      border-right-color: var(--fill-color);\n",
       "      border-top-color: var(--fill-color);\n",
       "    }\n",
       "    60% {\n",
       "      border-color: transparent;\n",
       "      border-right-color: var(--fill-color);\n",
       "    }\n",
       "    80% {\n",
       "      border-color: transparent;\n",
       "      border-right-color: var(--fill-color);\n",
       "      border-bottom-color: var(--fill-color);\n",
       "    }\n",
       "    90% {\n",
       "      border-color: transparent;\n",
       "      border-bottom-color: var(--fill-color);\n",
       "    }\n",
       "  }\n",
       "</style>\n",
       "\n",
       "  <script>\n",
       "    async function quickchart(key) {\n",
       "      const quickchartButtonEl =\n",
       "        document.querySelector('#' + key + ' button');\n",
       "      quickchartButtonEl.disabled = true;  // To prevent multiple clicks.\n",
       "      quickchartButtonEl.classList.add('colab-df-spinner');\n",
       "      try {\n",
       "        const charts = await google.colab.kernel.invokeFunction(\n",
       "            'suggestCharts', [key], {});\n",
       "      } catch (error) {\n",
       "        console.error('Error during call to suggestCharts:', error);\n",
       "      }\n",
       "      quickchartButtonEl.classList.remove('colab-df-spinner');\n",
       "      quickchartButtonEl.classList.add('colab-df-quickchart-complete');\n",
       "    }\n",
       "    (() => {\n",
       "      let quickchartButtonEl =\n",
       "        document.querySelector('#df-db9e1484-adaa-4a42-b4ce-cf374bfe3338 button');\n",
       "      quickchartButtonEl.style.display =\n",
       "        google.colab.kernel.accessAllowed ? 'block' : 'none';\n",
       "    })();\n",
       "  </script>\n",
       "</div>\n",
       "    </div>\n",
       "  </div>\n"
      ],
      "text/plain": [
       "                name        city         country  height  weight  account_a  \\\n",
       "0          Adi Dako   LISBON       PORTUGAL           56   132.0     2390.0   \n",
       "1          John Paul   LONDON     UNITED KINGDOM      62   165.0     4500.0   \n",
       "2        Cindy Jules   Stockholm          Sweden      48   117.0        NaN   \n",
       "3      Arthur Kegels    BRUSSELS         BELGIUM      59   121.0     4344.0   \n",
       "4      Freya Bismark      Berlin        GERMANYY      53   126.0     7000.0   \n",
       "\n",
       "   account_b  total_account  \n",
       "0       4340           6730  \n",
       "1      34334          38834  \n",
       "2       5504           8949  \n",
       "3       8999            300  \n",
       "4      19000          26000  "
      ]
     },
     "execution_count": 9,
     "metadata": {},
     "output_type": "execute_result"
    }
   ],
   "source": [
    "# Example 1b\n",
    "# ---\n",
    "# Alternatively we can rename column names in a dataframe manually by\n",
    "# specifying the column names that we would like to have.\n",
    "# Something to note is that this method becomes cumbersome when the no. of variables/features increase.\n",
    "# ---\n",
    "#\n",
    "\n",
    "# We will reload our dataset again for this example and replace our dataframe\n",
    "# with a new dataframe.\n",
    "# ---\n",
    "#\n",
    "df = pd.read_csv('http://bit.ly/DataCleaningDataset', sep = ';')\n",
    "\n",
    "# We then specify our columns names, store them in a list, then afterwards\n",
    "# assign the list to the column labels. By doing this, we replace the original\n",
    "# columns with our new column names stored in the list.\n",
    "# ---\n",
    "#\n",
    "df.columns = ['name', 'city', 'country', 'height', 'weight', 'account_a', 'account_b', 'total_account']\n",
    "\n",
    "# We then preview our dataframe as shown to confirm our changes\n",
    "# ---\n",
    "#\n",
    "df.head()"
   ]
  },
  {
   "cell_type": "code",
   "execution_count": null,
   "metadata": {
    "id": "TZNRcShHk2SY"
   },
   "outputs": [],
   "source": []
  },
  {
   "cell_type": "markdown",
   "metadata": {
    "id": "59SR9Kap7gMj"
   },
   "source": [
    "##### <font color=\"blue\">Example 2</font>"
   ]
  },
  {
   "cell_type": "code",
   "execution_count": null,
   "metadata": {
    "colab": {
     "base_uri": "https://localhost:8080/",
     "height": 206
    },
    "id": "7g_2_fG1md0X",
    "outputId": "03a93784-4e28-4ed6-fc9c-9a32ea1d7db2"
   },
   "outputs": [
    {
     "data": {
      "text/html": [
       "\n",
       "  <div id=\"df-c52cb884-bdc1-403a-a9e2-cff325798595\" class=\"colab-df-container\">\n",
       "    <div>\n",
       "<style scoped>\n",
       "    .dataframe tbody tr th:only-of-type {\n",
       "        vertical-align: middle;\n",
       "    }\n",
       "\n",
       "    .dataframe tbody tr th {\n",
       "        vertical-align: top;\n",
       "    }\n",
       "\n",
       "    .dataframe thead th {\n",
       "        text-align: right;\n",
       "    }\n",
       "</style>\n",
       "<table border=\"1\" class=\"dataframe\">\n",
       "  <thead>\n",
       "    <tr style=\"text-align: right;\">\n",
       "      <th></th>\n",
       "      <th>name</th>\n",
       "      <th>city</th>\n",
       "      <th>country</th>\n",
       "      <th>height</th>\n",
       "      <th>weight</th>\n",
       "      <th>account_a</th>\n",
       "      <th>account_b</th>\n",
       "      <th>total_account</th>\n",
       "    </tr>\n",
       "  </thead>\n",
       "  <tbody>\n",
       "    <tr>\n",
       "      <th>0</th>\n",
       "      <td>Adi Dako</td>\n",
       "      <td>lisbon</td>\n",
       "      <td>PORTUGAL</td>\n",
       "      <td>56</td>\n",
       "      <td>132.0</td>\n",
       "      <td>2390.0</td>\n",
       "      <td>4340</td>\n",
       "      <td>6730</td>\n",
       "    </tr>\n",
       "    <tr>\n",
       "      <th>1</th>\n",
       "      <td>John Paul</td>\n",
       "      <td>london</td>\n",
       "      <td>UNITED KINGDOM</td>\n",
       "      <td>62</td>\n",
       "      <td>165.0</td>\n",
       "      <td>4500.0</td>\n",
       "      <td>34334</td>\n",
       "      <td>38834</td>\n",
       "    </tr>\n",
       "    <tr>\n",
       "      <th>2</th>\n",
       "      <td>Cindy Jules</td>\n",
       "      <td>stockholm</td>\n",
       "      <td>Sweden</td>\n",
       "      <td>48</td>\n",
       "      <td>117.0</td>\n",
       "      <td>NaN</td>\n",
       "      <td>5504</td>\n",
       "      <td>8949</td>\n",
       "    </tr>\n",
       "    <tr>\n",
       "      <th>3</th>\n",
       "      <td>Arthur Kegels</td>\n",
       "      <td>brussels</td>\n",
       "      <td>BELGIUM</td>\n",
       "      <td>59</td>\n",
       "      <td>121.0</td>\n",
       "      <td>4344.0</td>\n",
       "      <td>8999</td>\n",
       "      <td>300</td>\n",
       "    </tr>\n",
       "    <tr>\n",
       "      <th>4</th>\n",
       "      <td>Freya Bismark</td>\n",
       "      <td>berlin</td>\n",
       "      <td>GERMANYY</td>\n",
       "      <td>53</td>\n",
       "      <td>126.0</td>\n",
       "      <td>7000.0</td>\n",
       "      <td>19000</td>\n",
       "      <td>26000</td>\n",
       "    </tr>\n",
       "  </tbody>\n",
       "</table>\n",
       "</div>\n",
       "    <div class=\"colab-df-buttons\">\n",
       "\n",
       "  <div class=\"colab-df-container\">\n",
       "    <button class=\"colab-df-convert\" onclick=\"convertToInteractive('df-c52cb884-bdc1-403a-a9e2-cff325798595')\"\n",
       "            title=\"Convert this dataframe to an interactive table.\"\n",
       "            style=\"display:none;\">\n",
       "\n",
       "  <svg xmlns=\"http://www.w3.org/2000/svg\" height=\"24px\" viewBox=\"0 -960 960 960\">\n",
       "    <path d=\"M120-120v-720h720v720H120Zm60-500h600v-160H180v160Zm220 220h160v-160H400v160Zm0 220h160v-160H400v160ZM180-400h160v-160H180v160Zm440 0h160v-160H620v160ZM180-180h160v-160H180v160Zm440 0h160v-160H620v160Z\"/>\n",
       "  </svg>\n",
       "    </button>\n",
       "\n",
       "  <style>\n",
       "    .colab-df-container {\n",
       "      display:flex;\n",
       "      gap: 12px;\n",
       "    }\n",
       "\n",
       "    .colab-df-convert {\n",
       "      background-color: #E8F0FE;\n",
       "      border: none;\n",
       "      border-radius: 50%;\n",
       "      cursor: pointer;\n",
       "      display: none;\n",
       "      fill: #1967D2;\n",
       "      height: 32px;\n",
       "      padding: 0 0 0 0;\n",
       "      width: 32px;\n",
       "    }\n",
       "\n",
       "    .colab-df-convert:hover {\n",
       "      background-color: #E2EBFA;\n",
       "      box-shadow: 0px 1px 2px rgba(60, 64, 67, 0.3), 0px 1px 3px 1px rgba(60, 64, 67, 0.15);\n",
       "      fill: #174EA6;\n",
       "    }\n",
       "\n",
       "    .colab-df-buttons div {\n",
       "      margin-bottom: 4px;\n",
       "    }\n",
       "\n",
       "    [theme=dark] .colab-df-convert {\n",
       "      background-color: #3B4455;\n",
       "      fill: #D2E3FC;\n",
       "    }\n",
       "\n",
       "    [theme=dark] .colab-df-convert:hover {\n",
       "      background-color: #434B5C;\n",
       "      box-shadow: 0px 1px 3px 1px rgba(0, 0, 0, 0.15);\n",
       "      filter: drop-shadow(0px 1px 2px rgba(0, 0, 0, 0.3));\n",
       "      fill: #FFFFFF;\n",
       "    }\n",
       "  </style>\n",
       "\n",
       "    <script>\n",
       "      const buttonEl =\n",
       "        document.querySelector('#df-c52cb884-bdc1-403a-a9e2-cff325798595 button.colab-df-convert');\n",
       "      buttonEl.style.display =\n",
       "        google.colab.kernel.accessAllowed ? 'block' : 'none';\n",
       "\n",
       "      async function convertToInteractive(key) {\n",
       "        const element = document.querySelector('#df-c52cb884-bdc1-403a-a9e2-cff325798595');\n",
       "        const dataTable =\n",
       "          await google.colab.kernel.invokeFunction('convertToInteractive',\n",
       "                                                    [key], {});\n",
       "        if (!dataTable) return;\n",
       "\n",
       "        const docLinkHtml = 'Like what you see? Visit the ' +\n",
       "          '<a target=\"_blank\" href=https://colab.research.google.com/notebooks/data_table.ipynb>data table notebook</a>'\n",
       "          + ' to learn more about interactive tables.';\n",
       "        element.innerHTML = '';\n",
       "        dataTable['output_type'] = 'display_data';\n",
       "        await google.colab.output.renderOutput(dataTable, element);\n",
       "        const docLink = document.createElement('div');\n",
       "        docLink.innerHTML = docLinkHtml;\n",
       "        element.appendChild(docLink);\n",
       "      }\n",
       "    </script>\n",
       "  </div>\n",
       "\n",
       "\n",
       "<div id=\"df-c56316f1-3383-4f24-ad17-c10359d6187b\">\n",
       "  <button class=\"colab-df-quickchart\" onclick=\"quickchart('df-c56316f1-3383-4f24-ad17-c10359d6187b')\"\n",
       "            title=\"Suggest charts.\"\n",
       "            style=\"display:none;\">\n",
       "\n",
       "<svg xmlns=\"http://www.w3.org/2000/svg\" height=\"24px\"viewBox=\"0 0 24 24\"\n",
       "     width=\"24px\">\n",
       "    <g>\n",
       "        <path d=\"M19 3H5c-1.1 0-2 .9-2 2v14c0 1.1.9 2 2 2h14c1.1 0 2-.9 2-2V5c0-1.1-.9-2-2-2zM9 17H7v-7h2v7zm4 0h-2V7h2v10zm4 0h-2v-4h2v4z\"/>\n",
       "    </g>\n",
       "</svg>\n",
       "  </button>\n",
       "\n",
       "<style>\n",
       "  .colab-df-quickchart {\n",
       "      --bg-color: #E8F0FE;\n",
       "      --fill-color: #1967D2;\n",
       "      --hover-bg-color: #E2EBFA;\n",
       "      --hover-fill-color: #174EA6;\n",
       "      --disabled-fill-color: #AAA;\n",
       "      --disabled-bg-color: #DDD;\n",
       "  }\n",
       "\n",
       "  [theme=dark] .colab-df-quickchart {\n",
       "      --bg-color: #3B4455;\n",
       "      --fill-color: #D2E3FC;\n",
       "      --hover-bg-color: #434B5C;\n",
       "      --hover-fill-color: #FFFFFF;\n",
       "      --disabled-bg-color: #3B4455;\n",
       "      --disabled-fill-color: #666;\n",
       "  }\n",
       "\n",
       "  .colab-df-quickchart {\n",
       "    background-color: var(--bg-color);\n",
       "    border: none;\n",
       "    border-radius: 50%;\n",
       "    cursor: pointer;\n",
       "    display: none;\n",
       "    fill: var(--fill-color);\n",
       "    height: 32px;\n",
       "    padding: 0;\n",
       "    width: 32px;\n",
       "  }\n",
       "\n",
       "  .colab-df-quickchart:hover {\n",
       "    background-color: var(--hover-bg-color);\n",
       "    box-shadow: 0 1px 2px rgba(60, 64, 67, 0.3), 0 1px 3px 1px rgba(60, 64, 67, 0.15);\n",
       "    fill: var(--button-hover-fill-color);\n",
       "  }\n",
       "\n",
       "  .colab-df-quickchart-complete:disabled,\n",
       "  .colab-df-quickchart-complete:disabled:hover {\n",
       "    background-color: var(--disabled-bg-color);\n",
       "    fill: var(--disabled-fill-color);\n",
       "    box-shadow: none;\n",
       "  }\n",
       "\n",
       "  .colab-df-spinner {\n",
       "    border: 2px solid var(--fill-color);\n",
       "    border-color: transparent;\n",
       "    border-bottom-color: var(--fill-color);\n",
       "    animation:\n",
       "      spin 1s steps(1) infinite;\n",
       "  }\n",
       "\n",
       "  @keyframes spin {\n",
       "    0% {\n",
       "      border-color: transparent;\n",
       "      border-bottom-color: var(--fill-color);\n",
       "      border-left-color: var(--fill-color);\n",
       "    }\n",
       "    20% {\n",
       "      border-color: transparent;\n",
       "      border-left-color: var(--fill-color);\n",
       "      border-top-color: var(--fill-color);\n",
       "    }\n",
       "    30% {\n",
       "      border-color: transparent;\n",
       "      border-left-color: var(--fill-color);\n",
       "      border-top-color: var(--fill-color);\n",
       "      border-right-color: var(--fill-color);\n",
       "    }\n",
       "    40% {\n",
       "      border-color: transparent;\n",
       "      border-right-color: var(--fill-color);\n",
       "      border-top-color: var(--fill-color);\n",
       "    }\n",
       "    60% {\n",
       "      border-color: transparent;\n",
       "      border-right-color: var(--fill-color);\n",
       "    }\n",
       "    80% {\n",
       "      border-color: transparent;\n",
       "      border-right-color: var(--fill-color);\n",
       "      border-bottom-color: var(--fill-color);\n",
       "    }\n",
       "    90% {\n",
       "      border-color: transparent;\n",
       "      border-bottom-color: var(--fill-color);\n",
       "    }\n",
       "  }\n",
       "</style>\n",
       "\n",
       "  <script>\n",
       "    async function quickchart(key) {\n",
       "      const quickchartButtonEl =\n",
       "        document.querySelector('#' + key + ' button');\n",
       "      quickchartButtonEl.disabled = true;  // To prevent multiple clicks.\n",
       "      quickchartButtonEl.classList.add('colab-df-spinner');\n",
       "      try {\n",
       "        const charts = await google.colab.kernel.invokeFunction(\n",
       "            'suggestCharts', [key], {});\n",
       "      } catch (error) {\n",
       "        console.error('Error during call to suggestCharts:', error);\n",
       "      }\n",
       "      quickchartButtonEl.classList.remove('colab-df-spinner');\n",
       "      quickchartButtonEl.classList.add('colab-df-quickchart-complete');\n",
       "    }\n",
       "    (() => {\n",
       "      let quickchartButtonEl =\n",
       "        document.querySelector('#df-c56316f1-3383-4f24-ad17-c10359d6187b button');\n",
       "      quickchartButtonEl.style.display =\n",
       "        google.colab.kernel.accessAllowed ? 'block' : 'none';\n",
       "    })();\n",
       "  </script>\n",
       "</div>\n",
       "    </div>\n",
       "  </div>\n"
      ],
      "text/plain": [
       "                name        city         country  height  weight  account_a  \\\n",
       "0          Adi Dako   lisbon       PORTUGAL           56   132.0     2390.0   \n",
       "1          John Paul   london     UNITED KINGDOM      62   165.0     4500.0   \n",
       "2        Cindy Jules   stockholm          Sweden      48   117.0        NaN   \n",
       "3      Arthur Kegels    brussels         BELGIUM      59   121.0     4344.0   \n",
       "4      Freya Bismark      berlin        GERMANYY      53   126.0     7000.0   \n",
       "\n",
       "   account_b  total_account  \n",
       "0       4340           6730  \n",
       "1      34334          38834  \n",
       "2       5504           8949  \n",
       "3       8999            300  \n",
       "4      19000          26000  "
      ]
     },
     "execution_count": 10,
     "metadata": {},
     "output_type": "execute_result"
    }
   ],
   "source": [
    "# Example 2\n",
    "# ---\n",
    "# During standardisation, we can also perform string conversion.\n",
    "# In this example, we will convert the values of the column city to lower case values.\n",
    "# From the previous example 1, we can see that the city column/feature has values\n",
    "# with Upppercase and Sentense case values.\n",
    "# ---\n",
    "# OUR CODE GOES BELOW\n",
    "#\n",
    "\n",
    "# Lets convert the city column to comprise of only lowercase characters\n",
    "# ---\n",
    "#\n",
    "df['city'] = df['city'].str.lower()\n",
    "df.head()"
   ]
  },
  {
   "cell_type": "markdown",
   "metadata": {
    "id": "WCk6jJA-7cpm"
   },
   "source": [
    "##### <font color=\"blue\">Example 3</font>"
   ]
  },
  {
   "cell_type": "code",
   "execution_count": null,
   "metadata": {
    "id": "F8bgFBh2JAs3"
   },
   "outputs": [],
   "source": [
    "# Example 3\n",
    "# ---\n",
    "# We now perform types of conversion that we would want i.e. metric conversion.\n",
    "# In this example, we convert our height values to centimeters having in mind\n",
    "# that 1 inch = 2.54 cm.\n",
    "# ---\n",
    "# Dataset url = http://bit.ly/DataCleaningDataset\n",
    "# ---\n",
    "#\n",
    "\n",
    "# We perform our conversion across the column that we would want\n",
    "# then replace the column with the outcome of our conversion.\n",
    "# ---\n",
    "#\n",
    "df['height'] = df['height'] * 2.54\n",
    "df.head()"
   ]
  },
  {
   "cell_type": "markdown",
   "metadata": {
    "id": "F76wMqtH7Z6W"
   },
   "source": [
    "##### <font color=\"blue\">Example 4</font>"
   ]
  },
  {
   "cell_type": "code",
   "execution_count": null,
   "metadata": {
    "id": "l7xqz-EHilp9"
   },
   "outputs": [],
   "source": [
    "# Example 4\n",
    "# ---\n",
    "# We can also perform other types of conversion such as datatype conversion as shown\n",
    "# ---\n",
    "\n",
    "\n",
    "# Let's first determine the column/feature datatypes\n",
    "# ---\n",
    "#\n",
    "df.dtypes"
   ]
  },
  {
   "cell_type": "code",
   "execution_count": null,
   "metadata": {
    "id": "MVwcfVsfjW7G"
   },
   "outputs": [],
   "source": [
    "# We then perform a conversion by converting our column/feature (height)\n",
    "# through the use of the apply() function, passing the numerical\n",
    "# type (integer) provided by numpy as shown in this example.\n",
    "# To get an understanding of other datatypes provided by numpy we can visit:\n",
    "# https://docs.scipy.org/doc/numpy/user/basics.types.html\n",
    "# ---\n",
    "# Other\n",
    "# ---\n",
    "#\n",
    "df['height'] = df['height'].apply(np.int64)\n",
    "\n",
    "# Let's now check whether our conversion happened by checking our updated datatypes.\n",
    "# We want to see whether height feature was converted from float to integer.\n",
    "# ---\n",
    "#\n",
    "df.dtypes"
   ]
  },
  {
   "cell_type": "code",
   "execution_count": null,
   "metadata": {
    "id": "Pkj4GEXZR6Ll"
   },
   "outputs": [],
   "source": [
    "# We can also refer to our previous values of the height feature in example 2,\n",
    "# and we will see that our height values now only comprise of integers.\n",
    "# Let's now inspect and see whether our changes took place.\n",
    "# We will sample 5 records from our dataset. Let's run this cell.\n",
    "# ---\n",
    "#\n",
    "df.sample(5)"
   ]
  },
  {
   "cell_type": "markdown",
   "metadata": {
    "id": "OWcy51lCOuTv"
   },
   "source": [
    "## 2. Syntax Errors"
   ]
  },
  {
   "cell_type": "markdown",
   "metadata": {
    "id": "ONPG_rNpOuT8"
   },
   "source": [
    "#### <font color=\"blue\">Examples</font>"
   ]
  },
  {
   "cell_type": "markdown",
   "metadata": {
    "id": "JBVRXQvY7WEB"
   },
   "source": [
    "##### <font color=\"blue\">Example 1</font>"
   ]
  },
  {
   "cell_type": "code",
   "execution_count": null,
   "metadata": {
    "id": "6JgjmQlAOuUA"
   },
   "outputs": [],
   "source": [
    "# Example 1\n",
    "# ---\n",
    "# While performing our analysis, we can get to a point where we need to\n",
    "# fix spelling mistakes or typos. This example will show us how we can\n",
    "# go about this.\n",
    "# ---\n",
    "# Dataset url = http://bit.ly/DataCleaningDataset\n",
    "# ---\n",
    "# OUR CODE GOES BELOW\n",
    "#\n",
    "\n",
    "# Let's replacing any value \"GERMANYY\" with the correct value \"GERMANY\".\n",
    "# We use the string replace() function to perform our operation as shown.\n",
    "# ---\n",
    "#\n",
    "df['country'] = df['country'].str.replace('GERMANYY', 'GERMANY')\n",
    "df.head()"
   ]
  },
  {
   "cell_type": "markdown",
   "metadata": {
    "id": "0ZXm4a9V7VFq"
   },
   "source": [
    "##### <font color=\"blue\">Example 2</font>"
   ]
  },
  {
   "cell_type": "code",
   "execution_count": null,
   "metadata": {
    "id": "cViv8asNOuUM"
   },
   "outputs": [],
   "source": [
    "# Example 2\n",
    "# ---\n",
    "# We can also decide to strip or remove leading spaces (space infront)\n",
    "# and trailing spaces (spaces at the end) in our datset by using the\n",
    "# string strip() function covered in this example.\n",
    "# ---\n",
    "# Dataset = http://bit.ly/DataCleaningDataset\n",
    "# ---\n",
    "# OUR CODE GOES BELOW\n",
    "#\n",
    "\n",
    "# We first load our dataframe column with the intention to observ leading\n",
    "# and trailing spaces in the city column\n",
    "# ---\n",
    "#\n",
    "df['city']"
   ]
  },
  {
   "cell_type": "code",
   "execution_count": null,
   "metadata": {
    "id": "u6hu9lJXnpPs"
   },
   "outputs": [],
   "source": [
    "# Then later we strip the leading and trailing spaces as shown and lastly\n",
    "# confirm our changes by previewing the city column\n",
    "# ---\n",
    "#\n",
    "df['city'] = df['city'].str.strip()\n",
    "df['city']"
   ]
  },
  {
   "cell_type": "markdown",
   "metadata": {
    "id": "ebaricL9O20B"
   },
   "source": [
    "## 3. Irrelevant Data"
   ]
  },
  {
   "cell_type": "markdown",
   "metadata": {
    "id": "WWZ0GCbCO20L"
   },
   "source": [
    "#### <font color=\"blue\">Examples</font>"
   ]
  },
  {
   "cell_type": "markdown",
   "metadata": {
    "id": "bjflp2aF7SUB"
   },
   "source": [
    "##### <font color=\"blue\">Example 1</font>"
   ]
  },
  {
   "cell_type": "code",
   "execution_count": null,
   "metadata": {
    "id": "cTzUuFAyO20Q"
   },
   "outputs": [],
   "source": [
    "# Example 1\n",
    "# ---\n",
    "# We can also delete/drop irrelevant columns/features.\n",
    "# By irrelevant we mean dataset features/columns that we don't need\n",
    "# to answer a research question.\n",
    "# ---\n",
    "# Dataset url = http://bit.ly/DataCleaningDataset\n",
    "# ---\n",
    "# OUR CODE GOES BELOW\n",
    "#\n"
   ]
  },
  {
   "cell_type": "code",
   "execution_count": null,
   "metadata": {
    "id": "2oiYYzezq4Wr"
   },
   "outputs": [],
   "source": [
    "# Deleting an Irrelevant Column i.e. if we don't require the column city\n",
    "# to answer our research question.\n",
    "# ---\n",
    "# While dropping/deleting those two columns:\n",
    "# a) We set axis = 1\n",
    "#    A dataframe has two axes: “axis 0” and “axis 1”.\n",
    "#    “axis 0” represents rows and “axis 1” represents columns.\n",
    "# b) We can also set Inplace = True.\n",
    "#    This means the changes would be made to the original dataframe.\n",
    "# Dropping the irrelevant columns i.e. Team and Weight\n",
    "# Those values were dropped since axis was set equal to 1 and\n",
    "# the changes were made in the original data frame since inplace was True.\n",
    "#\n",
    "df.drop([\"city\"], axis = 1, inplace = True)\n",
    "\n",
    "# And preview our resulting dataset\n",
    "# ---\n",
    "#\n",
    "df.head()"
   ]
  },
  {
   "cell_type": "code",
   "execution_count": null,
   "metadata": {
    "id": "naAOHnkNsz-y"
   },
   "outputs": [],
   "source": [
    "# We can drop multiple columns as shown\n",
    "# ---\n",
    "#\n",
    "df.drop([\"height\", \"weight\"], axis = 1, inplace = True)\n",
    "\n",
    "# And preview our resulting dataset\n",
    "# ---\n",
    "#\n",
    "df.head()"
   ]
  },
  {
   "cell_type": "markdown",
   "metadata": {
    "id": "NKkADApG7PQ-"
   },
   "source": [
    "##### <font color=\"blue\">Example 2</font>"
   ]
  },
  {
   "cell_type": "code",
   "execution_count": null,
   "metadata": {
    "id": "-TlGDqmxO20t"
   },
   "outputs": [],
   "source": [
    "# Example 2\n",
    "# ---\n",
    "# We can also fix in-record & cross-datasets errors.\n",
    "# These kinds errors result from having two or more values in the same row\n",
    "# or across datasets contradicting with each other.\n",
    "# ---\n",
    "# Dataset = http://bit.ly/DataCleaningDataset\n",
    "# ---\n",
    "# OUR CODE GOES BELOW\n",
    "#\n",
    "df['total_account_2'] = df['account_a'] + df['account_b']\n",
    "\n",
    "# Previewing our resulting dataframe\n",
    "# ---\n",
    "#\n",
    "df.head()"
   ]
  },
  {
   "cell_type": "code",
   "execution_count": null,
   "metadata": {
    "id": "Zf0W-6fnvx0A"
   },
   "outputs": [],
   "source": [
    "# Create another column to tell us whether if the two columns match.\n",
    "# We will use the numpy library through use of np.\n",
    "# ---\n",
    "#\n",
    "df['total_account?'] = np.where(df['total_account'] == df['total_account_2'], 'True', 'False')\n",
    "\n",
    "# Previewing our resulting dataframe\n",
    "# ---\n",
    "#\n",
    "df.head()"
   ]
  },
  {
   "cell_type": "code",
   "execution_count": null,
   "metadata": {
    "id": "DGxUgJJ4wilM"
   },
   "outputs": [],
   "source": [
    "# Let's now select the records which don't match\n",
    "# ---\n",
    "#\n",
    "df.loc[df['total_account?'] == \"False\"]\n"
   ]
  },
  {
   "cell_type": "code",
   "execution_count": null,
   "metadata": {
    "id": "1CeKrayqxQuL"
   },
   "outputs": [],
   "source": [
    "# At this point we can do several things\n",
    "# 1. Correct the values,\n",
    "# 2. Drop/Delete the values,\n",
    "# 3. Or even decide to leave them as they are for certain reasons\n",
    "# ---\n",
    "# If we had a large dataset, we could get the no. of records using len(),\n",
    "# this would help us in our decision making process.\n",
    "# ---\n",
    "#\n",
    "len(df.loc[df['total_account?'] == \"False\"])"
   ]
  },
  {
   "cell_type": "markdown",
   "metadata": {
    "id": "UQvS83K_PBJh"
   },
   "source": [
    "## 4. Duplicates"
   ]
  },
  {
   "cell_type": "markdown",
   "metadata": {
    "id": "CjklXwZLPBJw"
   },
   "source": [
    "#### <font color=\"blue\">Examples</font>"
   ]
  },
  {
   "cell_type": "markdown",
   "metadata": {
    "id": "o8VZ3JLQPBJy"
   },
   "source": [
    "##### <font color=\"blue\">Example 1</font>"
   ]
  },
  {
   "cell_type": "code",
   "execution_count": null,
   "metadata": {
    "id": "dTlrpqh-PBJ5"
   },
   "outputs": [],
   "source": [
    "# Example 1\n",
    "# ---\n",
    "# Finding duplicate records\n",
    "# -> Duplicate records are repeated records in a dataset.\n",
    "# ---\n",
    "# Dataset url = http://bit.ly/NBABasketballDataset\n",
    "# ---\n",
    "# OUR CODE GOES BELOW\n",
    "#\n",
    "\n",
    "df = pd.read_csv('http://bit.ly/NBABasketballDataset')\n",
    "\n",
    "# Again, we first explore our dataset by determining the shape of\n",
    "# our dataset (records/instances, columns/variables)\n",
    "# ---\n",
    "#\n",
    "df.shape"
   ]
  },
  {
   "cell_type": "code",
   "execution_count": null,
   "metadata": {
    "id": "XRdHqs9p1L8t"
   },
   "outputs": [],
   "source": [
    "# We can then identify which observations are duplicates\n",
    "# through the duplicated() function and sum() to know how many\n",
    "# duplicate records there are.\n",
    "# Normally, duplicate records are dropped from the dataset.\n",
    "# But in our case we don't have any duplicate records.\n",
    "# ---\n",
    "#\n",
    "df = df[df.duplicated()]\n",
    "df.head()"
   ]
  },
  {
   "cell_type": "code",
   "execution_count": null,
   "metadata": {
    "id": "Kd6R2AB77A1e"
   },
   "outputs": [],
   "source": [
    "# Finding the no. of duplicates\n",
    "# ---\n",
    "#\n",
    "sum(df.duplicated())"
   ]
  },
  {
   "cell_type": "markdown",
   "metadata": {
    "id": "SV883_Ft7M4c"
   },
   "source": [
    "##### <font color=\"blue\">Example 2</font>"
   ]
  },
  {
   "cell_type": "code",
   "execution_count": null,
   "metadata": {
    "id": "jFMDOQUCPBKg"
   },
   "outputs": [],
   "source": [
    "# Example 2\n",
    "# ---\n",
    "# Dropping duplicate columns\n",
    "# ---\n",
    "# Dataset = http://bit.ly/DataCleaningDataset\n",
    "# ---\n",
    "# OUR CODE GOES BELOW\n",
    "#\n",
    "\n",
    "# In our previous dataset, if there were duplicates we\n",
    "# could have dropped the through the use of the drop_duplicates() function\n",
    "# as shown in this example\n",
    "# ---\n",
    "#\n",
    "df_duplicates = df.drop_duplicates()\n",
    "df_duplicates.head()"
   ]
  },
  {
   "cell_type": "markdown",
   "metadata": {
    "id": "8Hd0kybN7KEK"
   },
   "source": [
    "##### <font color=\"blue\">Example 3</font>"
   ]
  },
  {
   "cell_type": "code",
   "execution_count": null,
   "metadata": {
    "id": "1CNl8VL-PBKp"
   },
   "outputs": [],
   "source": [
    "# Example 3\n",
    "# ---\n",
    "# Dropping duplicates in a specific column\n",
    "# ---\n",
    "# Dataset url = http://bit.ly/DataCleaningDataset\n",
    "# ---\n",
    "#\n",
    "\n",
    "# We can also consider records with repeated variables/columns\n",
    "# as duplicates and deal with them. For example, we can\n",
    "# identify duplicates in our dataset based on country.\n",
    "# ---\n",
    "#\n",
    "duplicates_df = df[df.duplicated(['country'])]\n",
    "duplicates_df"
   ]
  },
  {
   "cell_type": "code",
   "execution_count": null,
   "metadata": {
    "id": "D33CBMxu5agd"
   },
   "outputs": [],
   "source": [
    "# Then dropping the duplicates as shown below.\n",
    "# NB: We will create in a new dataframe object which will contain our unique dataframe\n",
    "# which won't have any duplicates.\n",
    "# ---\n",
    "#\n",
    "unique_df = df.drop_duplicates(['country'])\n",
    "\n",
    "# Determining the size of our new dataset\n",
    "# We note that the two records were dropped from our original dataset\n",
    "# ---\n",
    "#\n",
    "unique_df.shape"
   ]
  },
  {
   "cell_type": "markdown",
   "metadata": {
    "id": "_7MfKNGePLVE"
   },
   "source": [
    "## 5. Missing Data"
   ]
  },
  {
   "cell_type": "markdown",
   "metadata": {
    "id": "tSyyvcJJPLVO"
   },
   "source": [
    "#### <font color=\"blue\">Examples</font>"
   ]
  },
  {
   "cell_type": "markdown",
   "metadata": {
    "id": "gWiBc-smPLVS"
   },
   "source": [
    "##### <font color=\"blue\">Example 1</font>"
   ]
  },
  {
   "cell_type": "code",
   "execution_count": null,
   "metadata": {
    "id": "jz2zjwTZPLVT"
   },
   "outputs": [],
   "source": [
    "# Example 1\n",
    "# ---\n",
    "# Finding records with missing data\n",
    "# ---\n",
    "# Dataset url = http://bit.ly/DataCleaningDataset\n",
    "# ---\n",
    "# OUR CODE GOES BELOW\n",
    "#\n",
    "\n",
    "# We can check if there is any missing values in the entire dataframe as shown\n",
    "# NB: This method may not be the most convenient. Why?\n",
    "# ---\n",
    "#\n",
    "df = pd.read_csv('http://bit.ly/DataCleaningDataset', ';')\n",
    "df.isnull()"
   ]
  },
  {
   "cell_type": "code",
   "execution_count": null,
   "metadata": {
    "id": "7ZtDFohkKVab"
   },
   "outputs": [],
   "source": [
    "# We can also check for missing values in each column\n",
    "# NB: This method may not be the most convenient. Why?\n",
    "# Let's uncomment the following line\n",
    "# ---\n",
    "#\n",
    "df.isnull().any()\n"
   ]
  },
  {
   "cell_type": "code",
   "execution_count": null,
   "metadata": {
    "id": "oY9LaH8_KcKl"
   },
   "outputs": [],
   "source": [
    "# We can check how many missing values there are across each variable/column by\n",
    "# ---\n",
    "#\n",
    "df.isnull().sum()"
   ]
  },
  {
   "cell_type": "code",
   "execution_count": null,
   "metadata": {
    "id": "Y3RTlthxKgbu"
   },
   "outputs": [],
   "source": [
    "# We can also check to see if we have any missing values in the dataframe by\n",
    "# ---\n",
    "#\n",
    "df.isnull().values.any()\n"
   ]
  },
  {
   "cell_type": "code",
   "execution_count": null,
   "metadata": {
    "id": "3z3SDJZsKjz_"
   },
   "outputs": [],
   "source": [
    "# Lastly, We can also get a total count of missing values by\n",
    "#\n",
    "# ---\n",
    "df.isnull().sum()"
   ]
  },
  {
   "cell_type": "markdown",
   "metadata": {
    "id": "B_mlBg-TPLVe"
   },
   "source": [
    "##### <font color=\"blue\">Example 2</font>"
   ]
  },
  {
   "cell_type": "code",
   "execution_count": null,
   "metadata": {
    "id": "A_VydZ3NUrNr"
   },
   "outputs": [],
   "source": [
    "df.shape"
   ]
  },
  {
   "cell_type": "code",
   "execution_count": null,
   "metadata": {
    "id": "QuNTnbSmPLVf"
   },
   "outputs": [],
   "source": [
    "# Example 2\n",
    "# ---\n",
    "# Dealing with the missing data\n",
    "# ---\n",
    "#\n",
    "\n",
    "# We can drop rows where all cells in that row is NA\n",
    "# Let's uncomment the following line\n",
    "# NB: We don't have these rows in our dataset\n",
    "# ---\n",
    "#\n",
    "df_cleaned = df.dropna(how='all')\n",
    "df_cleaned.shape"
   ]
  },
  {
   "cell_type": "code",
   "execution_count": null,
   "metadata": {
    "id": "2OWqJ6FJFmgw"
   },
   "outputs": [],
   "source": [
    "# We can also drop columns if they only contain missing values\n",
    "# NB: We don't have these rows in our dataset\n",
    "# ---\n",
    "#\n",
    "df_without_columns = df.dropna(axis=1, how='all')\n",
    "df_without_columns.shape"
   ]
  },
  {
   "cell_type": "code",
   "execution_count": null,
   "metadata": {
    "id": "PT4fmeWyFtYg"
   },
   "outputs": [],
   "source": [
    "# We can drop rows that contain less than five observations\n",
    "# NB: We don't have these rows in our dataset\n",
    "# ---\n",
    "#\n",
    "df.dropna(thresh=5)"
   ]
  },
  {
   "cell_type": "code",
   "execution_count": null,
   "metadata": {
    "id": "bfgdzPzNF35d"
   },
   "outputs": [],
   "source": [
    "# Lastly, we can also drop the missing observations\n",
    "# ---\n",
    "#\n",
    "df_no_missing = df.dropna()\n",
    "df_no_missing.shape\n",
    "\n",
    "\n",
    "# There are many methods of dealing with missing data however,\n",
    "# we only dealt with the above basic ones due to time constraints."
   ]
  },
  {
   "cell_type": "markdown",
   "metadata": {
    "id": "2aaKxkwk7GGN"
   },
   "source": [
    "##### <font color=\"blue\">Example 3</font>"
   ]
  },
  {
   "cell_type": "code",
   "execution_count": null,
   "metadata": {
    "id": "dJf7iOj8rQrF"
   },
   "outputs": [],
   "source": [
    "# Example 3\n",
    "# ---\n",
    "# Flag missing values\n",
    "# ---\n",
    "# Dataset url = http://bit.ly/DataCleaningDataset\n",
    "# ---\n",
    "#\n",
    "\n",
    "# We can also fill in missing data with zeros as shown.\n",
    "# NB: We will create a copy of the original dataframe\n",
    "# Let's uncomment the following line\n",
    "# ---\n",
    "#\n",
    "df2 = df.copy()\n",
    "df3 = df2.fillna(0)\n",
    "df3"
   ]
  },
  {
   "cell_type": "markdown",
   "metadata": {
    "id": "v5M3iGK8PZ3Y"
   },
   "source": [
    "## 6. Outliers"
   ]
  },
  {
   "cell_type": "markdown",
   "metadata": {
    "id": "jnxNSUhdPZ3u"
   },
   "source": [
    "#### <font color=\"blue\">Examples</font>"
   ]
  },
  {
   "cell_type": "markdown",
   "metadata": {
    "id": "0Z92GZUgPZ35"
   },
   "source": [
    "##### <font color=\"blue\">Example 1</font>"
   ]
  },
  {
   "cell_type": "code",
   "execution_count": null,
   "metadata": {
    "id": "NzpMrSX1PZ36"
   },
   "outputs": [],
   "source": [
    "# Example 1\n",
    "# ---\n",
    "# Given the following dataset, find and deal with outliers.\n",
    "# ---\n",
    "# Dataset url = http://bit.ly/CountryDataset1\n",
    "# ---\n",
    "# OUR CODE GOES BELOW\n",
    "#\n",
    "\n",
    "# Let's read data from url as dataframe\n",
    "#\n",
    "outliersc_df = pd.read_csv(\"http://bit.ly/CountryDataset1\")\n",
    "\n",
    "# Lets preview our our dataframe below\n",
    "#\n",
    "outliersc_df.head()"
   ]
  },
  {
   "cell_type": "code",
   "execution_count": null,
   "metadata": {
    "id": "9MtbaxstdIby"
   },
   "outputs": [],
   "source": [
    "# Checking the size of our dataset for cleaning purposes\n",
    "# ---\n",
    "#\n",
    "outliersc_df.shape"
   ]
  },
  {
   "cell_type": "code",
   "execution_count": null,
   "metadata": {
    "id": "Q33K99Jsc1wH"
   },
   "outputs": [],
   "source": [
    "# There are many ways of dealing with the outliers however in this session we wiil\n",
    "# use the interquartile range (IQR).\n",
    "# A data point is considered to be an outiler if it is more\n",
    "# than 1.5 * IQR above the third quartile (i.e. Q3  + 1.5 * IQR)\n",
    "# or below the first quartile (i.e. Q1 - 1.5 * IQR).\n",
    "# Something to note is that this method will consider only the numerical values in\n",
    "# our dataset. Lets now calculate the IQR for each column.\n",
    "# ---\n",
    "#\n",
    "\n",
    "# We first defining our quantiles using the quantile() function\n",
    "# ---\n",
    "#\n",
    "Q1 = outliersc_df.quantile(0.25)\n",
    "Q3 = outliersc_df.quantile(0.75)\n",
    "IQR = Q3 - Q1\n",
    "IQR\n",
    "\n",
    "# Then filtering out now filter out outliers by getting values which are outside our IQR Range.\n",
    "# ---\n",
    "#\n",
    "outliers_df_iqr = outliersc_df[((outliersc_df < (Q1 - 1.5 * IQR)) | (outliersc_df > (Q3 + 1.5 * IQR))).any(axis=1)]\n",
    "\n",
    "# Checking the size of the dataset with outliers for cleaning purposes\n",
    "# ---\n",
    "#\n",
    "outliers_df_iqr.shape"
   ]
  },
  {
   "cell_type": "code",
   "execution_count": null,
   "metadata": {
    "id": "UWJth6qXczMC"
   },
   "outputs": [],
   "source": [
    "# We can also explore our outliers by doing the following\n",
    "# ---\n",
    "#\n",
    "outliers_df_iqr"
   ]
  },
  {
   "cell_type": "code",
   "execution_count": null,
   "metadata": {
    "id": "FjGji1pYUMTq"
   },
   "outputs": [],
   "source": [
    "# Lastly, the most common method of handling our outliers is to drop them.\n",
    "# In some cases we can:\n",
    "# 1. Leave them if they are genuine\n",
    "# 2. Replace them with values within the IQR range\n",
    "# 3. Drop them\n",
    "# ---\n",
    "# In our case, we will drop them.\n",
    "# We just use the \"~\" character to refer to the other part of the dataset that\n",
    "# does not have outliers\n",
    "# ---\n",
    "#\n",
    "clean_dfc_iqr = outliersc_df[ ~((outliersc_df < (Q1 - 1.5 * IQR)) | (outliersc_df > (Q3 + 1.5 * IQR))).any(axis=1)]\n",
    "\n",
    "# Checking the size of our final dataset.\n",
    "clean_dfc_iqr.shape"
   ]
  }
 ],
 "metadata": {
  "colab": {
   "collapsed_sections": [
    "8tAUAu98l-E6",
    "AdqLGpdH_867",
    "o39LEL0PmKJa",
    "BMXTATeJmOGX",
    "59SR9Kap7gMj",
    "WCk6jJA-7cpm",
    "F76wMqtH7Z6W",
    "OWcy51lCOuTv",
    "ONPG_rNpOuT8",
    "JBVRXQvY7WEB",
    "0ZXm4a9V7VFq",
    "ebaricL9O20B",
    "WWZ0GCbCO20L",
    "bjflp2aF7SUB",
    "NKkADApG7PQ-",
    "UQvS83K_PBJh",
    "CjklXwZLPBJw",
    "o8VZ3JLQPBJy",
    "SV883_Ft7M4c",
    "8Hd0kybN7KEK",
    "_7MfKNGePLVE",
    "tSyyvcJJPLVO",
    "gWiBc-smPLVS",
    "B_mlBg-TPLVe",
    "2aaKxkwk7GGN",
    "v5M3iGK8PZ3Y",
    "jnxNSUhdPZ3u",
    "0Z92GZUgPZ35"
   ],
   "provenance": []
  },
  "kernelspec": {
   "display_name": "Python 3 (ipykernel)",
   "language": "python",
   "name": "python3"
  },
  "language_info": {
   "codemirror_mode": {
    "name": "ipython",
    "version": 3
   },
   "file_extension": ".py",
   "mimetype": "text/x-python",
   "name": "python",
   "nbconvert_exporter": "python",
   "pygments_lexer": "ipython3",
   "version": "3.11.4"
  }
 },
 "nbformat": 4,
 "nbformat_minor": 1
}
